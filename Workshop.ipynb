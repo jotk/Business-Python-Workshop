{
 "cells": [
  {
   "cell_type": "markdown",
   "metadata": {},
   "source": [
    "# Welcome to LSG's first introductory Python workshop with HackCU! \n",
    "## Thanks so much for joining us! Here's today's agenda:\n",
    "1. Python Introduction: Why is Python valuable? Hear from students and faculty!\n",
    "2. Introduction to our Jupyter environment. \n",
    "3. Print statements: \"Hello World\", input.\n",
    "4. Basic math, endless possibilities!\n",
    "5. Functions, bite-sized chunks of code.\n",
    "5. Lists/arrays, basic data structures.\n",
    "6. Loops and list traversal.\n",
    "7. PANDAS: Data analytics with Python!"
   ]
  },
  {
   "cell_type": "markdown",
   "metadata": {},
   "source": [
    "# Exercise 1: \"Hello World!\"\n",
    ">- One of the first programs we can write is a \"Hello World\" function. This tests to make sure your environment is set up correctly. Modify the \"print\" statement below to have your computer say hello!"
   ]
  },
  {
   "cell_type": "code",
   "execution_count": 32,
   "metadata": {},
   "outputs": [
    {
     "name": "stdout",
     "output_type": "stream",
     "text": [
      "\n"
     ]
    }
   ],
   "source": [
    "# This is called a comment. You will see these as hints throughout our workshop. \n",
    "# The print() function takes a typed value within the parenthesis (in this case, a \"string\"). \n",
    "# Hint: The answer may be in the title!\n",
    "print()"
   ]
  },
  {
   "cell_type": "markdown",
   "metadata": {},
   "source": [
    "# Exercise 1a: What is your name?\n",
    ">- Hello World was pretty easy. Now, let's give the user some input. "
   ]
  },
  {
   "cell_type": "code",
   "execution_count": 33,
   "metadata": {},
   "outputs": [
    {
     "ename": "KeyboardInterrupt",
     "evalue": "Interrupted by user",
     "output_type": "error",
     "traceback": [
      "\u001b[0;31m---------------------------------------------------------------------------\u001b[0m",
      "\u001b[0;31mKeyboardInterrupt\u001b[0m                         Traceback (most recent call last)",
      "\u001b[0;32m<ipython-input-33-2f70ec92be5c>\u001b[0m in \u001b[0;36m<module>\u001b[0;34m\u001b[0m\n\u001b[1;32m      1\u001b[0m \u001b[0;31m#The input() function is similar to a print(), but will ask the user for input. Ask for the user's name!\u001b[0m\u001b[0;34m\u001b[0m\u001b[0;34m\u001b[0m\u001b[0;34m\u001b[0m\u001b[0m\n\u001b[0;32m----> 2\u001b[0;31m \u001b[0mname\u001b[0m \u001b[0;34m=\u001b[0m \u001b[0minput\u001b[0m\u001b[0;34m(\u001b[0m\u001b[0;34m)\u001b[0m\u001b[0;34m\u001b[0m\u001b[0;34m\u001b[0m\u001b[0m\n\u001b[0m\u001b[1;32m      3\u001b[0m \u001b[0mprint\u001b[0m\u001b[0;34m(\u001b[0m\u001b[0;34m\"Welcome to Python, \"\u001b[0m \u001b[0;34m+\u001b[0m \u001b[0mname\u001b[0m \u001b[0;34m+\u001b[0m \u001b[0;34m\"!\"\u001b[0m\u001b[0;34m)\u001b[0m\u001b[0;34m\u001b[0m\u001b[0;34m\u001b[0m\u001b[0m\n",
      "\u001b[0;32m/usr/local/lib/python3.7/site-packages/ipykernel/kernelbase.py\u001b[0m in \u001b[0;36mraw_input\u001b[0;34m(self, prompt)\u001b[0m\n\u001b[1;32m    861\u001b[0m             \u001b[0mself\u001b[0m\u001b[0;34m.\u001b[0m\u001b[0m_parent_ident\u001b[0m\u001b[0;34m,\u001b[0m\u001b[0;34m\u001b[0m\u001b[0;34m\u001b[0m\u001b[0m\n\u001b[1;32m    862\u001b[0m             \u001b[0mself\u001b[0m\u001b[0;34m.\u001b[0m\u001b[0m_parent_header\u001b[0m\u001b[0;34m,\u001b[0m\u001b[0;34m\u001b[0m\u001b[0;34m\u001b[0m\u001b[0m\n\u001b[0;32m--> 863\u001b[0;31m             \u001b[0mpassword\u001b[0m\u001b[0;34m=\u001b[0m\u001b[0;32mFalse\u001b[0m\u001b[0;34m,\u001b[0m\u001b[0;34m\u001b[0m\u001b[0;34m\u001b[0m\u001b[0m\n\u001b[0m\u001b[1;32m    864\u001b[0m         )\n\u001b[1;32m    865\u001b[0m \u001b[0;34m\u001b[0m\u001b[0m\n",
      "\u001b[0;32m/usr/local/lib/python3.7/site-packages/ipykernel/kernelbase.py\u001b[0m in \u001b[0;36m_input_request\u001b[0;34m(self, prompt, ident, parent, password)\u001b[0m\n\u001b[1;32m    902\u001b[0m             \u001b[0;32mexcept\u001b[0m \u001b[0mKeyboardInterrupt\u001b[0m\u001b[0;34m:\u001b[0m\u001b[0;34m\u001b[0m\u001b[0;34m\u001b[0m\u001b[0m\n\u001b[1;32m    903\u001b[0m                 \u001b[0;31m# re-raise KeyboardInterrupt, to truncate traceback\u001b[0m\u001b[0;34m\u001b[0m\u001b[0;34m\u001b[0m\u001b[0;34m\u001b[0m\u001b[0m\n\u001b[0;32m--> 904\u001b[0;31m                 \u001b[0;32mraise\u001b[0m \u001b[0mKeyboardInterrupt\u001b[0m\u001b[0;34m(\u001b[0m\u001b[0;34m\"Interrupted by user\"\u001b[0m\u001b[0;34m)\u001b[0m \u001b[0;32mfrom\u001b[0m \u001b[0;32mNone\u001b[0m\u001b[0;34m\u001b[0m\u001b[0;34m\u001b[0m\u001b[0m\n\u001b[0m\u001b[1;32m    905\u001b[0m             \u001b[0;32mexcept\u001b[0m \u001b[0mException\u001b[0m \u001b[0;32mas\u001b[0m \u001b[0me\u001b[0m\u001b[0;34m:\u001b[0m\u001b[0;34m\u001b[0m\u001b[0;34m\u001b[0m\u001b[0m\n\u001b[1;32m    906\u001b[0m                 \u001b[0mself\u001b[0m\u001b[0;34m.\u001b[0m\u001b[0mlog\u001b[0m\u001b[0;34m.\u001b[0m\u001b[0mwarning\u001b[0m\u001b[0;34m(\u001b[0m\u001b[0;34m\"Invalid Message:\"\u001b[0m\u001b[0;34m,\u001b[0m \u001b[0mexc_info\u001b[0m\u001b[0;34m=\u001b[0m\u001b[0;32mTrue\u001b[0m\u001b[0;34m)\u001b[0m\u001b[0;34m\u001b[0m\u001b[0;34m\u001b[0m\u001b[0m\n",
      "\u001b[0;31mKeyboardInterrupt\u001b[0m: Interrupted by user"
     ]
    }
   ],
   "source": [
    "#The input() function is similar to a print(), but will ask the user for input. Ask for the user's name!\n",
    "name = input()\n",
    "print(\"Welcome to Python, \" + name + \"!\")"
   ]
  },
  {
   "cell_type": "markdown",
   "metadata": {},
   "source": [
    "# Exercise 2: Basic Math\n",
    ">- Computers are really, really good at calculations. Python has a wide array of math applications. Let's start with arithmetic (with a surprise appearance from the input function, which we saw earlier!). "
   ]
  },
  {
   "cell_type": "code",
   "execution_count": null,
   "metadata": {},
   "outputs": [],
   "source": [
    "#Replace the `?` question marks with the correct arithmetic operator. \n",
    "\n",
    "firstNumber = int(input(\"Please input a number: \"))\n",
    "secondNumber = int(input(\"Please input another number: \"))\n",
    "\n",
    "add = firstNumber + secondNumber\n",
    "subtract = firstNumber - secondNumber\n",
    "multiply = firstNumber * secondNumber\n",
    "divide = firstNumber / secondNumber\n",
    "greaterThan = firstNumber > secondNumber\n",
    "lessThan = firstNumber < secondNumber\n",
    "\n",
    "print(f\"Added: {add}, subtracted: {subtract}, multiplied: {multiply}, divided: {divide}, greater than: {greaterThan}, less than: {lessThan}\")"
   ]
  },
  {
   "cell_type": "markdown",
   "metadata": {},
   "source": [
    "# Exercise 2a: Finding the area of a sphere.\n",
    ">- Below is the start of a program intended to find the area of a sphere. Fill in the missing parts to complete it!"
   ]
  },
  {
   "cell_type": "code",
   "execution_count": null,
   "metadata": {},
   "outputs": [],
   "source": [
    "#Keep in mind that the formula for the area of a sphere is 4(pi)r^2.\n",
    "radius = float(input(\"What is the radius of your sphere?\"))\n",
    "pi = 3.14\n",
    "\n",
    "radiusSquared = radius*radius\n",
    "# Fill in this line with the variables\n",
    "answer = ?\n",
    "print(f\"The answer is: {answer}\")"
   ]
  },
  {
   "cell_type": "markdown",
   "metadata": {},
   "source": [
    "This has a lot of cool applications, and we can use it to answer slightly more intense problems. The next cell contains a function called sieve_of_Eratosthenes(). This is an algorithm to produce all prime numbers below a certain number, in this case 100. Super cool! "
   ]
  },
  {
   "cell_type": "code",
   "execution_count": 34,
   "metadata": {},
   "outputs": [
    {
     "name": "stdout",
     "output_type": "stream",
     "text": [
      "[2, 3, 5, 7, 11, 13, 17, 19, 23, 29, 31, 37, 41, 43, 47, 53, 59, 61, 67, 71, 73, 79, 83, 89, 97]\n"
     ]
    }
   ],
   "source": [
    "def sieve_of_Eratosthenes(num):\n",
    "    limitn = num + 1\n",
    "    not_prime_num = set()\n",
    "    prime_nums = []\n",
    "    for i in range(2, limitn):\n",
    "        if i in not_prime_num:\n",
    "            continue\n",
    "        for f in range(i*2, limitn, i):\n",
    "            not_prime_num.add(f)\n",
    "        prime_nums.append(i)\n",
    "    return prime_nums\n",
    "print(sieve_of_Eratosthenes(100))"
   ]
  },
  {
   "cell_type": "markdown",
   "metadata": {},
   "source": [
    "Speaking of functions..."
   ]
  },
  {
   "cell_type": "markdown",
   "metadata": {},
   "source": [
    "# Exercise 3: Functions!\n",
    ">- Functions aren't too scary, it's just a way of consilidating our code into bite-sized chunks, and not having to re-write our code each time we want to use it.\n",
    ">- For the next problem, print the user's full name using the function names. "
   ]
  },
  {
   "cell_type": "code",
   "execution_count": null,
   "metadata": {},
   "outputs": [],
   "source": [
    "def firstName():\n",
    "    return input(\"What is your first name?: \")\n",
    "def lastName():\n",
    "    return input(\"What is your last name?: \")\n",
    "print(? + \" \" + ?) #Replace the question marks with the functions you want to call, complete with ()"
   ]
  },
  {
   "cell_type": "markdown",
   "metadata": {},
   "source": [
    "# Exercise 4: Lists/Arrays (basic data structures)!\n",
    ">- Lists (sometimes called Arrays) are a really great way of storing multiple pieces of data in the same object. Arrays hold data sequentially, and can be extremely useful.\n",
    ">- The following function will ask you to input your 5 favorite foods and store them all in an array called favFoods, which is displayed at the end. Run the cell and input your answers. "
   ]
  },
  {
   "cell_type": "code",
   "execution_count": null,
   "metadata": {},
   "outputs": [],
   "source": [
    "favFoods = []\n",
    "\n",
    "# favoritefood1 = input(\"What is your favorite food?: \")\n",
    "# favoritefood2 = input(\"What is your second favorite food?: \")\n",
    "# favoritefood3 = input(\"What is your third favorite food?: \")\n",
    "# favoritefood4 = input(\"What is your fourth favorite food?: \")\n",
    "# favoritefood5 = input(\"What is your fifth favorite food?: \")\n",
    "\n",
    "# append will add to the end\n",
    "favoritefood1 = input(\"What is your favorite food?: \")\n",
    "favFoods.append(favoritefood1)\n",
    "print(favFoods)\n",
    "\n",
    "favoritefood1 = input(\"What is your favorite food?: \")\n",
    "favFoods.append(favoritefood2)\n",
    "print(favFoods)\n",
    "\n",
    "favFoods.append(favoritefood3)\n",
    "favFoods.append(favoritefood4)\n",
    "favFoods.append(favoritefood5)\n",
    "\n",
    "print(favFoods)"
   ]
  },
  {
   "cell_type": "markdown",
   "metadata": {},
   "source": [
    ">- Now that you have your favorite foods in an array, let's print your third favorite food. How could we go about getting that? Input the correct index between the square brackets in the problem below (you may need a hint from your workshop team to get this one right!)"
   ]
  },
  {
   "cell_type": "code",
   "execution_count": null,
   "metadata": {},
   "outputs": [],
   "source": [
    "print(favFoods)"
   ]
  },
  {
   "cell_type": "markdown",
   "metadata": {},
   "source": [
    "# Exercise 5: Loops and Conditional Statements\n",
    ">- Another way to view the elements in an array is with a loop. Loops are key for most programs you will run, as it tells your computer to perform several operations with one line of code. In the following example, we use a variable called i, which will point to one of the elements in your foods array. Then, it will print at the element it is pointing at, and move to the next one."
   ]
  },
  {
   "cell_type": "code",
   "execution_count": null,
   "metadata": {},
   "outputs": [],
   "source": [
    "for i in favFoods:\n",
    "    print(i)"
   ]
  },
  {
   "cell_type": "markdown",
   "metadata": {},
   "source": [
    "This loop is called a for loop, and it's typically the best way to traverse arrays. Another very common loop is the While loop, which can be thought of as \"while this condition is true, the loop continues\". In the next example, the loop will continue to ask the user for the password until the user enters the correct password (skobuffs123). However, the program is incomplete, as the computer won't display anything for the user. Read the code and change the print() statements to display an appropriate response. "
   ]
  },
  {
   "cell_type": "code",
   "execution_count": null,
   "metadata": {},
   "outputs": [],
   "source": [
    "password = input(\"What is the password?: \")\n",
    "while(password != \"skobuffs123\"):\n",
    "    password = input(\"What is the password?: \")\n",
    "    if(password == \"skobuffs123\"):\n",
    "        print(\"ta\") #tell the computer what to display in the given condition\n",
    "        break\n",
    "    else:\n",
    "        print(\"fuck off\") #tell the computer what to display in the given condition    "
   ]
  },
  {
   "cell_type": "markdown",
   "metadata": {},
   "source": [
    "# Exercise 6: Data Analysis with Pandas\n",
    ">- Now for some of the fun stuff! You can \"add\" additional capabilities to Python by downloading and inputting libraries for use. One of the most useful libraries for data analysis is called pandas. Pandas makes Python even more useful, allowing it to easily read in excel or csv files for quantitative analysis. This is just one of thousands of Python libraries, try some more on your own!"
   ]
  },
  {
   "cell_type": "code",
   "execution_count": null,
   "metadata": {},
   "outputs": [],
   "source": [
    "#How do you import the pandas library? Try using the \"import\" command\n",
    "student = pandas.DataFrame(pandas.read_csv('students.csv'))\n",
    "student"
   ]
  },
  {
   "cell_type": "markdown",
   "metadata": {},
   "source": [
    "Using pandas, we are able to analyze a dataset more easily and thouroughly than with the python standard library. This code is designed to display the students in the dataset who scored an 80 or more points, and have a first name starting with the letter L. You can also combine data sets, perform statistical analysis, and more!"
   ]
  },
  {
   "cell_type": "code",
   "execution_count": null,
   "metadata": {},
   "outputs": [],
   "source": [
    "student.loc[(student.Points >= 80) & (student.firstName.str.startswith('L') == True)]"
   ]
  },
  {
   "cell_type": "code",
   "execution_count": null,
   "metadata": {},
   "outputs": [],
   "source": []
  }
 ],
 "metadata": {
  "kernelspec": {
   "display_name": "Python 3",
   "language": "python",
   "name": "python3"
  },
  "language_info": {
   "codemirror_mode": {
    "name": "ipython",
    "version": 3
   },
   "file_extension": ".py",
   "mimetype": "text/x-python",
   "name": "python",
   "nbconvert_exporter": "python",
   "pygments_lexer": "ipython3",
   "version": "3.7.6"
  }
 },
 "nbformat": 4,
 "nbformat_minor": 4
}
